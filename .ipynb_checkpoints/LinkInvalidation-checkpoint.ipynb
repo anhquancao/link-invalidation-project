{
 "cells": [
  {
   "cell_type": "code",
   "execution_count": 1,
   "metadata": {},
   "outputs": [
    {
     "name": "stderr",
     "output_type": "stream",
     "text": [
      "Using TensorFlow backend.\n"
     ]
    }
   ],
   "source": [
    "import pandas as pd\n",
    "from keras import layers, models, optimizers\n",
    "from sklearn.model_selection import train_test_split\n",
    "import matplotlib.pyplot as plt\n",
    "import numpy as np\n",
    "from keras.callbacks import ReduceLROnPlateau\n",
    "from sklearn.metrics import accuracy_score, f1_score, precision_score, recall_score"
   ]
  },
  {
   "cell_type": "code",
   "execution_count": 2,
   "metadata": {},
   "outputs": [],
   "source": [
    "data1 = pd.read_csv(\"data1.csv\", header=None)\n",
    "data2 = pd.read_csv(\"data2.csv\", header=None)"
   ]
  },
  {
   "cell_type": "code",
   "execution_count": 3,
   "metadata": {},
   "outputs": [],
   "source": [
    "data = pd.concat([data1, data2])"
   ]
  },
  {
   "cell_type": "code",
   "execution_count": 4,
   "metadata": {},
   "outputs": [],
   "source": [
    "data = data.sample(frac=1).reset_index(drop=True)"
   ]
  },
  {
   "cell_type": "code",
   "execution_count": 5,
   "metadata": {},
   "outputs": [
    {
     "data": {
      "text/html": [
       "<div>\n",
       "<style scoped>\n",
       "    .dataframe tbody tr th:only-of-type {\n",
       "        vertical-align: middle;\n",
       "    }\n",
       "\n",
       "    .dataframe tbody tr th {\n",
       "        vertical-align: top;\n",
       "    }\n",
       "\n",
       "    .dataframe thead th {\n",
       "        text-align: right;\n",
       "    }\n",
       "</style>\n",
       "<table border=\"1\" class=\"dataframe\">\n",
       "  <thead>\n",
       "    <tr style=\"text-align: right;\">\n",
       "      <th></th>\n",
       "      <th>0</th>\n",
       "      <th>1</th>\n",
       "      <th>2</th>\n",
       "      <th>3</th>\n",
       "      <th>4</th>\n",
       "      <th>5</th>\n",
       "      <th>6</th>\n",
       "      <th>7</th>\n",
       "      <th>8</th>\n",
       "      <th>9</th>\n",
       "      <th>...</th>\n",
       "      <th>21</th>\n",
       "      <th>22</th>\n",
       "      <th>23</th>\n",
       "      <th>24</th>\n",
       "      <th>25</th>\n",
       "      <th>26</th>\n",
       "      <th>27</th>\n",
       "      <th>28</th>\n",
       "      <th>29</th>\n",
       "      <th>30</th>\n",
       "    </tr>\n",
       "  </thead>\n",
       "  <tbody>\n",
       "    <tr>\n",
       "      <th>0</th>\n",
       "      <td>0.0</td>\n",
       "      <td>0.0</td>\n",
       "      <td>0.0</td>\n",
       "      <td>0.000000</td>\n",
       "      <td>0.0</td>\n",
       "      <td>0.0</td>\n",
       "      <td>0.0</td>\n",
       "      <td>0.0</td>\n",
       "      <td>0.0</td>\n",
       "      <td>0.0</td>\n",
       "      <td>...</td>\n",
       "      <td>0.0</td>\n",
       "      <td>0.0</td>\n",
       "      <td>0.0</td>\n",
       "      <td>0.000000</td>\n",
       "      <td>0.0</td>\n",
       "      <td>0.0</td>\n",
       "      <td>0.0</td>\n",
       "      <td>0.0</td>\n",
       "      <td>0.0</td>\n",
       "      <td>0</td>\n",
       "    </tr>\n",
       "    <tr>\n",
       "      <th>1</th>\n",
       "      <td>0.0</td>\n",
       "      <td>0.0</td>\n",
       "      <td>0.0</td>\n",
       "      <td>0.000000</td>\n",
       "      <td>0.0</td>\n",
       "      <td>0.0</td>\n",
       "      <td>0.0</td>\n",
       "      <td>0.0</td>\n",
       "      <td>0.0</td>\n",
       "      <td>0.0</td>\n",
       "      <td>...</td>\n",
       "      <td>0.0</td>\n",
       "      <td>0.0</td>\n",
       "      <td>0.0</td>\n",
       "      <td>0.000000</td>\n",
       "      <td>0.0</td>\n",
       "      <td>0.0</td>\n",
       "      <td>0.0</td>\n",
       "      <td>0.0</td>\n",
       "      <td>0.0</td>\n",
       "      <td>0</td>\n",
       "    </tr>\n",
       "    <tr>\n",
       "      <th>2</th>\n",
       "      <td>0.0</td>\n",
       "      <td>0.0</td>\n",
       "      <td>0.0</td>\n",
       "      <td>0.722222</td>\n",
       "      <td>0.0</td>\n",
       "      <td>0.0</td>\n",
       "      <td>0.0</td>\n",
       "      <td>0.0</td>\n",
       "      <td>0.0</td>\n",
       "      <td>0.0</td>\n",
       "      <td>...</td>\n",
       "      <td>0.0</td>\n",
       "      <td>0.0</td>\n",
       "      <td>0.0</td>\n",
       "      <td>0.801905</td>\n",
       "      <td>0.0</td>\n",
       "      <td>0.0</td>\n",
       "      <td>0.0</td>\n",
       "      <td>0.0</td>\n",
       "      <td>0.0</td>\n",
       "      <td>0</td>\n",
       "    </tr>\n",
       "    <tr>\n",
       "      <th>3</th>\n",
       "      <td>0.0</td>\n",
       "      <td>0.0</td>\n",
       "      <td>0.0</td>\n",
       "      <td>0.000000</td>\n",
       "      <td>0.0</td>\n",
       "      <td>0.0</td>\n",
       "      <td>0.0</td>\n",
       "      <td>0.0</td>\n",
       "      <td>0.0</td>\n",
       "      <td>0.0</td>\n",
       "      <td>...</td>\n",
       "      <td>0.0</td>\n",
       "      <td>0.0</td>\n",
       "      <td>0.0</td>\n",
       "      <td>0.000000</td>\n",
       "      <td>0.0</td>\n",
       "      <td>0.0</td>\n",
       "      <td>0.0</td>\n",
       "      <td>0.0</td>\n",
       "      <td>0.0</td>\n",
       "      <td>0</td>\n",
       "    </tr>\n",
       "    <tr>\n",
       "      <th>4</th>\n",
       "      <td>0.0</td>\n",
       "      <td>0.0</td>\n",
       "      <td>0.0</td>\n",
       "      <td>0.722222</td>\n",
       "      <td>0.0</td>\n",
       "      <td>0.0</td>\n",
       "      <td>0.0</td>\n",
       "      <td>0.0</td>\n",
       "      <td>0.0</td>\n",
       "      <td>0.0</td>\n",
       "      <td>...</td>\n",
       "      <td>0.0</td>\n",
       "      <td>0.0</td>\n",
       "      <td>0.0</td>\n",
       "      <td>0.763810</td>\n",
       "      <td>0.0</td>\n",
       "      <td>0.0</td>\n",
       "      <td>0.0</td>\n",
       "      <td>0.0</td>\n",
       "      <td>0.0</td>\n",
       "      <td>0</td>\n",
       "    </tr>\n",
       "  </tbody>\n",
       "</table>\n",
       "<p>5 rows × 31 columns</p>\n",
       "</div>"
      ],
      "text/plain": [
       "    0    1    2         3    4    5    6    7    8    9  ...   21   22   23  \\\n",
       "0  0.0  0.0  0.0  0.000000  0.0  0.0  0.0  0.0  0.0  0.0 ...  0.0  0.0  0.0   \n",
       "1  0.0  0.0  0.0  0.000000  0.0  0.0  0.0  0.0  0.0  0.0 ...  0.0  0.0  0.0   \n",
       "2  0.0  0.0  0.0  0.722222  0.0  0.0  0.0  0.0  0.0  0.0 ...  0.0  0.0  0.0   \n",
       "3  0.0  0.0  0.0  0.000000  0.0  0.0  0.0  0.0  0.0  0.0 ...  0.0  0.0  0.0   \n",
       "4  0.0  0.0  0.0  0.722222  0.0  0.0  0.0  0.0  0.0  0.0 ...  0.0  0.0  0.0   \n",
       "\n",
       "         24   25   26   27   28   29  30  \n",
       "0  0.000000  0.0  0.0  0.0  0.0  0.0   0  \n",
       "1  0.000000  0.0  0.0  0.0  0.0  0.0   0  \n",
       "2  0.801905  0.0  0.0  0.0  0.0  0.0   0  \n",
       "3  0.000000  0.0  0.0  0.0  0.0  0.0   0  \n",
       "4  0.763810  0.0  0.0  0.0  0.0  0.0   0  \n",
       "\n",
       "[5 rows x 31 columns]"
      ]
     },
     "execution_count": 5,
     "metadata": {},
     "output_type": "execute_result"
    }
   ],
   "source": [
    "data.head()"
   ]
  },
  {
   "cell_type": "code",
   "execution_count": 6,
   "metadata": {},
   "outputs": [
    {
     "name": "stdout",
     "output_type": "stream",
     "text": [
      "Number of observations:  12833\n"
     ]
    }
   ],
   "source": [
    "print(\"Number of observations: \", len(data))"
   ]
  },
  {
   "cell_type": "code",
   "execution_count": 7,
   "metadata": {},
   "outputs": [],
   "source": [
    "X = data.iloc[:, : 30]\n",
    "y = data.iloc[:, 30]"
   ]
  },
  {
   "cell_type": "code",
   "execution_count": 8,
   "metadata": {},
   "outputs": [],
   "source": [
    "X_train, X_test, y_train, y_test = train_test_split(X, y, test_size=0.2, random_state=1)\n",
    "X_train, X_val, y_train, y_val = train_test_split(X_train, y_train, test_size=0.2, random_state=1)"
   ]
  },
  {
   "cell_type": "code",
   "execution_count": 15,
   "metadata": {},
   "outputs": [],
   "source": [
    "model = models.Sequential()\n",
    "model.add(layers.Dense(256, activation=\"relu\", input_shape=(30,)))\n",
    "model.add(layers.Dense(512, activation=\"relu\"))\n",
    "model.add(layers.Dense(512, activation=\"relu\"))\n",
    "model.add(layers.Dense(512, activation=\"relu\"))\n",
    "model.add(layers.Dense(256, activation=\"relu\"))\n",
    "model.add(layers.Dense(1, activation=\"sigmoid\"))"
   ]
  },
  {
   "cell_type": "code",
   "execution_count": 16,
   "metadata": {},
   "outputs": [
    {
     "name": "stdout",
     "output_type": "stream",
     "text": [
      "_________________________________________________________________\n",
      "Layer (type)                 Output Shape              Param #   \n",
      "=================================================================\n",
      "dense_7 (Dense)              (None, 256)               7936      \n",
      "_________________________________________________________________\n",
      "dense_8 (Dense)              (None, 512)               131584    \n",
      "_________________________________________________________________\n",
      "dense_9 (Dense)              (None, 512)               262656    \n",
      "_________________________________________________________________\n",
      "dense_10 (Dense)             (None, 512)               262656    \n",
      "_________________________________________________________________\n",
      "dense_11 (Dense)             (None, 256)               131328    \n",
      "_________________________________________________________________\n",
      "dense_12 (Dense)             (None, 1)                 257       \n",
      "=================================================================\n",
      "Total params: 796,417\n",
      "Trainable params: 796,417\n",
      "Non-trainable params: 0\n",
      "_________________________________________________________________\n"
     ]
    }
   ],
   "source": [
    "model.summary()"
   ]
  },
  {
   "cell_type": "code",
   "execution_count": 17,
   "metadata": {},
   "outputs": [],
   "source": [
    "model.compile(\n",
    "    optimizer=optimizers.RMSprop(),\n",
    "    loss=\"binary_crossentropy\",\n",
    "    metrics=['acc']\n",
    ")"
   ]
  },
  {
   "cell_type": "code",
   "execution_count": 18,
   "metadata": {
    "scrolled": true
   },
   "outputs": [
    {
     "name": "stdout",
     "output_type": "stream",
     "text": [
      "Train on 8212 samples, validate on 2054 samples\n",
      "Epoch 1/30\n",
      "8212/8212 [==============================] - 1s 137us/step - loss: 0.0884 - acc: 0.9721 - val_loss: 0.0129 - val_acc: 0.9956\n",
      "Epoch 2/30\n",
      "8212/8212 [==============================] - 1s 104us/step - loss: 0.0378 - acc: 0.9909 - val_loss: 0.0105 - val_acc: 0.9966\n",
      "Epoch 3/30\n",
      "8212/8212 [==============================] - 1s 101us/step - loss: 0.0496 - acc: 0.9912 - val_loss: 0.0211 - val_acc: 0.9912\n",
      "Epoch 4/30\n",
      "8212/8212 [==============================] - 1s 109us/step - loss: 0.0294 - acc: 0.9934 - val_loss: 0.0128 - val_acc: 0.9951\n",
      "Epoch 5/30\n",
      "8212/8212 [==============================] - 1s 128us/step - loss: 0.0282 - acc: 0.9937 - val_loss: 0.0145 - val_acc: 0.9966\n",
      "Epoch 6/30\n",
      "8212/8212 [==============================] - 1s 125us/step - loss: 0.0305 - acc: 0.9940 - val_loss: 0.0114 - val_acc: 0.9961\n",
      "Epoch 7/30\n",
      "8212/8212 [==============================] - 1s 126us/step - loss: 0.0335 - acc: 0.9935 - val_loss: 0.0155 - val_acc: 0.9951\n",
      "\n",
      "Epoch 00007: ReduceLROnPlateau reducing learning rate to 0.00010000000474974513.\n",
      "Epoch 8/30\n",
      "8212/8212 [==============================] - 1s 109us/step - loss: 0.0162 - acc: 0.9956 - val_loss: 0.0092 - val_acc: 0.9971\n",
      "Epoch 9/30\n",
      "8212/8212 [==============================] - 1s 107us/step - loss: 0.0159 - acc: 0.9960 - val_loss: 0.0103 - val_acc: 0.9971\n",
      "Epoch 10/30\n",
      "8212/8212 [==============================] - 1s 106us/step - loss: 0.0159 - acc: 0.9962 - val_loss: 0.0107 - val_acc: 0.9971\n",
      "Epoch 11/30\n",
      "8212/8212 [==============================] - 1s 112us/step - loss: 0.0151 - acc: 0.9962 - val_loss: 0.0119 - val_acc: 0.9971\n",
      "Epoch 12/30\n",
      "8212/8212 [==============================] - 1s 127us/step - loss: 0.0163 - acc: 0.9962 - val_loss: 0.0113 - val_acc: 0.9971\n",
      "Epoch 13/30\n",
      "8212/8212 [==============================] - 1s 123us/step - loss: 0.0162 - acc: 0.9961 - val_loss: 0.0105 - val_acc: 0.9971\n",
      "\n",
      "Epoch 00013: ReduceLROnPlateau reducing learning rate to 1.0000000474974514e-05.\n",
      "Epoch 14/30\n",
      "8212/8212 [==============================] - 1s 114us/step - loss: 0.0144 - acc: 0.9962 - val_loss: 0.0111 - val_acc: 0.9971\n",
      "Epoch 15/30\n",
      "8212/8212 [==============================] - 1s 116us/step - loss: 0.0146 - acc: 0.9962 - val_loss: 0.0113 - val_acc: 0.9971\n",
      "Epoch 16/30\n",
      "8212/8212 [==============================] - 1s 123us/step - loss: 0.0155 - acc: 0.9961 - val_loss: 0.0118 - val_acc: 0.9971\n",
      "Epoch 17/30\n",
      "8212/8212 [==============================] - 1s 128us/step - loss: 0.0155 - acc: 0.9961 - val_loss: 0.0115 - val_acc: 0.9971\n",
      "Epoch 18/30\n",
      "8212/8212 [==============================] - 1s 118us/step - loss: 0.0157 - acc: 0.9961 - val_loss: 0.0118 - val_acc: 0.9971\n",
      "\n",
      "Epoch 00018: ReduceLROnPlateau reducing learning rate to 1.0000000656873453e-06.\n",
      "Epoch 19/30\n",
      "8212/8212 [==============================] - 1s 105us/step - loss: 0.0153 - acc: 0.9961 - val_loss: 0.0118 - val_acc: 0.9971\n",
      "Epoch 20/30\n",
      "8212/8212 [==============================] - 1s 108us/step - loss: 0.0153 - acc: 0.9961 - val_loss: 0.0118 - val_acc: 0.9971\n",
      "Epoch 21/30\n",
      "8212/8212 [==============================] - 1s 106us/step - loss: 0.0153 - acc: 0.9961 - val_loss: 0.0118 - val_acc: 0.9971\n",
      "Epoch 22/30\n",
      "8212/8212 [==============================] - 1s 119us/step - loss: 0.0153 - acc: 0.9961 - val_loss: 0.0118 - val_acc: 0.9971\n",
      "Epoch 23/30\n",
      "8212/8212 [==============================] - 1s 112us/step - loss: 0.0153 - acc: 0.9961 - val_loss: 0.0118 - val_acc: 0.9971\n",
      "\n",
      "Epoch 00023: ReduceLROnPlateau reducing learning rate to 1e-06.\n",
      "Epoch 24/30\n",
      "8212/8212 [==============================] - 1s 115us/step - loss: 0.0152 - acc: 0.9961 - val_loss: 0.0118 - val_acc: 0.9971\n",
      "Epoch 25/30\n",
      "8212/8212 [==============================] - 1s 116us/step - loss: 0.0152 - acc: 0.9961 - val_loss: 0.0118 - val_acc: 0.9971\n",
      "Epoch 26/30\n",
      "8212/8212 [==============================] - 1s 116us/step - loss: 0.0152 - acc: 0.9961 - val_loss: 0.0118 - val_acc: 0.9971\n",
      "Epoch 27/30\n",
      "8212/8212 [==============================] - 1s 103us/step - loss: 0.0152 - acc: 0.9961 - val_loss: 0.0118 - val_acc: 0.9971\n",
      "Epoch 28/30\n",
      "8212/8212 [==============================] - 1s 103us/step - loss: 0.0152 - acc: 0.9961 - val_loss: 0.0118 - val_acc: 0.9971\n",
      "Epoch 29/30\n",
      "8212/8212 [==============================] - 1s 106us/step - loss: 0.0152 - acc: 0.9961 - val_loss: 0.0118 - val_acc: 0.9971\n",
      "Epoch 30/30\n",
      "8212/8212 [==============================] - 1s 102us/step - loss: 0.0152 - acc: 0.9961 - val_loss: 0.0118 - val_acc: 0.9971\n"
     ]
    }
   ],
   "source": [
    "reduce_lr = ReduceLROnPlateau(monitor='val_loss', factor=0.1,\n",
    "                              verbose=1,\n",
    "                              patience=5, min_lr=1e-6)\n",
    "history = model.fit(X_train, y_train, epochs=30, batch_size=30,                   \n",
    "                    callbacks=[reduce_lr],\n",
    "                    validation_data=(X_val, y_val))"
   ]
  },
  {
   "cell_type": "code",
   "execution_count": 19,
   "metadata": {},
   "outputs": [
    {
     "data": {
      "image/png": "[encoded data removed]",
      "text/plain": [
       "<Figure size 432x288 with 1 Axes>"
      ]
     },
     "metadata": {
      "needs_background": "light"
     },
     "output_type": "display_data"
    },
    {
     "data": {
      "image/png": "[encoded data removed]",
      "text/plain": [
       "<Figure size 432x288 with 1 Axes>"
      ]
     },
     "metadata": {
      "needs_background": "light"
     },
     "output_type": "display_data"
    }
   ],
   "source": [
    "acc = history.history['acc']\n",
    "val_acc = history.history['val_acc']\n",
    "loss = history.history['loss']\n",
    "val_loss = history.history['val_loss']\n",
    "\n",
    "epochs = range(1, len(acc) + 1)\n",
    "plt.plot(epochs, acc, 'bo', label='Training acc')\n",
    "plt.plot(epochs, val_acc, 'b', label='Validation acc')\n",
    "plt.title('Training and validation accuracy')\n",
    "plt.legend()\n",
    "plt.figure()\n",
    "plt.plot(epochs, loss, 'bo', label='Training loss')\n",
    "plt.plot(epochs, val_loss, 'b', label='Validation loss')\n",
    "plt.title('Training and validation loss')\n",
    "plt.legend()\n",
    "plt.show()"
   ]
  },
  {
   "cell_type": "code",
   "execution_count": 20,
   "metadata": {},
   "outputs": [
    {
     "name": "stdout",
     "output_type": "stream",
     "text": [
      "2567/2567 [==============================] - 0s 24us/step\n",
      "Precision:  0.9861830742659758\n",
      "Recall:  0.9965095986038395\n",
      "F1 Score:  0.9913194444444444\n",
      "Accuracy:  0.9961044020257109\n"
     ]
    }
   ],
   "source": [
    "y_pred = model.predict(X_test)\n",
    "y_pred = np.round(y_pred)\n",
    "test_loss, test_acc = model.evaluate(X_test, y_test)\n",
    "\n",
    "print(\"Precision: \", precision_score(y_test, y_pred))\n",
    "print(\"Recall: \", recall_score(y_test, y_pred))    \n",
    "print(\"F1 Score: \", f1_score(y_test, y_pred))\n",
    "print(\"Accuracy: \", test_acc)"
   ]
  },
  {
   "cell_type": "code",
   "execution_count": null,
   "metadata": {},
   "outputs": [],
   "source": []
  },
  {
   "cell_type": "code",
   "execution_count": null,
   "metadata": {},
   "outputs": [],
   "source": []
  }
 ],
 "metadata": {
  "kernelspec": {
   "display_name": "Python 3",
   "language": "python",
   "name": "python3"
  },
  "language_info": {
   "codemirror_mode": {
    "name": "ipython",
    "version": 3
   },
   "file_extension": ".py",
   "mimetype": "text/x-python",
   "name": "python",
   "nbconvert_exporter": "python",
   "pygments_lexer": "ipython3",
   "version": "3.6.7"
  }
 },
 "nbformat": 4,
 "nbformat_minor": 2
}
